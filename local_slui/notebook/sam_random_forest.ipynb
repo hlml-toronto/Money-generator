{
 "cells": [
  {
   "cell_type": "code",
   "execution_count": 1,
   "metadata": {
    "collapsed": true
   },
   "outputs": [],
   "source": [
    "# built on Money-generator/notebooks/random_forest.ipynb and keggle tutorial\n",
    "# (1) single ticker with volume\n",
    "# (2) multiple ticker as input\n",
    "\n",
    "############# IMPORTANT #############\n",
    "# Only change the parameters in \n",
    "# hash tag brackets if you are not sure\n",
    "#####################################"
   ]
  },
  {
   "cell_type": "code",
   "execution_count": 2,
   "metadata": {},
   "outputs": [],
   "source": [
    "import matplotlib.pyplot as plt\n",
    "import numpy as np\n",
    "import os\n",
    "import pandas as pd\n",
    "import sqlite3 as sql\n",
    "import sys\n",
    "import seaborn as sns \n",
    "from scipy import stats"
   ]
  },
  {
   "cell_type": "code",
   "execution_count": 3,
   "metadata": {},
   "outputs": [],
   "source": [
    "sys.path.append('../../')\n",
    "\n",
    "from src.db_default import DB_DIR, DB_FROZEN_VARIANTS\n",
    "from src.db_class import DBCursor, FinanceDB"
   ]
  },
  {
   "cell_type": "code",
   "execution_count": 4,
   "metadata": {
    "collapsed": true
   },
   "outputs": [],
   "source": [
    "db_variant_label = 'v1'\n",
    "db_filename = DB_FROZEN_VARIANTS['v1']['db_filename']\n",
    "finance_db = FinanceDB(db_filename)"
   ]
  },
  {
   "cell_type": "code",
   "execution_count": 1779,
   "metadata": {},
   "outputs": [
    {
     "data": {
      "text/plain": [
       "array(['AAPL', 'ADBE', 'AMZN', 'BMO.TO', 'BNS.TO', 'BRK-B', 'BTC-USD',\n",
       "       'CADUSD=X', 'CM.TO', 'CNR.TO', 'COST', 'CP.TO', 'DIS', 'ENB',\n",
       "       'ETH-USD', 'ETHX-B.TO', 'ETHX-U.TO', 'FB', 'GOOG', 'HUT', 'HUT.TO',\n",
       "       'JPM', 'MFC', 'MSFT', 'NFLX', 'NVDA', 'PFE', 'PG', 'RY', 'SHOP.TO',\n",
       "       'SPY', 'TD.TO', 'TRI.TO', 'TSLA', 'V', 'XEC.TO', 'XEF.TO',\n",
       "       'XEI.TO', 'XIC.TO', 'XUU.TO'], dtype='<U9')"
      ]
     },
     "execution_count": 1779,
     "metadata": {},
     "output_type": "execute_result"
    }
   ],
   "source": [
    "np.transpose(finance_db.get_present_tickers())"
   ]
  },
  {
   "cell_type": "markdown",
   "metadata": {},
   "source": [
    "# Example 1 : with volume"
   ]
  },
  {
   "cell_type": "code",
   "execution_count": 8,
   "metadata": {},
   "outputs": [
    {
     "data": {
      "text/html": [
       "<div>\n",
       "<style scoped>\n",
       "    .dataframe tbody tr th:only-of-type {\n",
       "        vertical-align: middle;\n",
       "    }\n",
       "\n",
       "    .dataframe tbody tr th {\n",
       "        vertical-align: top;\n",
       "    }\n",
       "\n",
       "    .dataframe thead th {\n",
       "        text-align: right;\n",
       "    }\n",
       "</style>\n",
       "<table border=\"1\" class=\"dataframe\">\n",
       "  <thead>\n",
       "    <tr style=\"text-align: right;\">\n",
       "      <th></th>\n",
       "      <th>date</th>\n",
       "      <th>open</th>\n",
       "      <th>high</th>\n",
       "      <th>low</th>\n",
       "      <th>close</th>\n",
       "      <th>adjusted_close</th>\n",
       "      <th>volume</th>\n",
       "      <th>security_ticker</th>\n",
       "    </tr>\n",
       "  </thead>\n",
       "  <tbody>\n",
       "    <tr>\n",
       "      <th>0</th>\n",
       "      <td>1980-12-12 00:00:00</td>\n",
       "      <td>0.128348</td>\n",
       "      <td>0.128906</td>\n",
       "      <td>0.128348</td>\n",
       "      <td>0.128348</td>\n",
       "      <td>0.100453</td>\n",
       "      <td>469033600</td>\n",
       "      <td>AAPL</td>\n",
       "    </tr>\n",
       "    <tr>\n",
       "      <th>1</th>\n",
       "      <td>1980-12-15 00:00:00</td>\n",
       "      <td>0.122210</td>\n",
       "      <td>0.122210</td>\n",
       "      <td>0.121652</td>\n",
       "      <td>0.121652</td>\n",
       "      <td>0.095213</td>\n",
       "      <td>175884800</td>\n",
       "      <td>AAPL</td>\n",
       "    </tr>\n",
       "    <tr>\n",
       "      <th>2</th>\n",
       "      <td>1980-12-16 00:00:00</td>\n",
       "      <td>0.113281</td>\n",
       "      <td>0.113281</td>\n",
       "      <td>0.112723</td>\n",
       "      <td>0.112723</td>\n",
       "      <td>0.088224</td>\n",
       "      <td>105728000</td>\n",
       "      <td>AAPL</td>\n",
       "    </tr>\n",
       "    <tr>\n",
       "      <th>3</th>\n",
       "      <td>1980-12-17 00:00:00</td>\n",
       "      <td>0.115513</td>\n",
       "      <td>0.116071</td>\n",
       "      <td>0.115513</td>\n",
       "      <td>0.115513</td>\n",
       "      <td>0.090408</td>\n",
       "      <td>86441600</td>\n",
       "      <td>AAPL</td>\n",
       "    </tr>\n",
       "    <tr>\n",
       "      <th>4</th>\n",
       "      <td>1980-12-18 00:00:00</td>\n",
       "      <td>0.118862</td>\n",
       "      <td>0.119420</td>\n",
       "      <td>0.118862</td>\n",
       "      <td>0.118862</td>\n",
       "      <td>0.093029</td>\n",
       "      <td>73449600</td>\n",
       "      <td>AAPL</td>\n",
       "    </tr>\n",
       "  </tbody>\n",
       "</table>\n",
       "</div>"
      ],
      "text/plain": [
       "                  date      open      high       low     close  \\\n",
       "0  1980-12-12 00:00:00  0.128348  0.128906  0.128348  0.128348   \n",
       "1  1980-12-15 00:00:00  0.122210  0.122210  0.121652  0.121652   \n",
       "2  1980-12-16 00:00:00  0.113281  0.113281  0.112723  0.112723   \n",
       "3  1980-12-17 00:00:00  0.115513  0.116071  0.115513  0.115513   \n",
       "4  1980-12-18 00:00:00  0.118862  0.119420  0.118862  0.118862   \n",
       "\n",
       "   adjusted_close     volume security_ticker  \n",
       "0        0.100453  469033600            AAPL  \n",
       "1        0.095213  175884800            AAPL  \n",
       "2        0.088224  105728000            AAPL  \n",
       "3        0.090408   86441600            AAPL  \n",
       "4        0.093029   73449600            AAPL  "
      ]
     },
     "execution_count": 8,
     "metadata": {},
     "output_type": "execute_result"
    }
   ],
   "source": [
    "ticker = 'AAPL'\n",
    "df = finance_db.get_daily_per_ticker(ticker)\n",
    "df.head()"
   ]
  },
  {
   "cell_type": "code",
   "execution_count": 40,
   "metadata": {},
   "outputs": [
    {
     "name": "stdout",
     "output_type": "stream",
     "text": [
      "input features: ['volume day0', 'fractional_change day0', 'volume day1', 'fractional_change day1']\n"
     ]
    }
   ],
   "source": [
    "############ Method parameters ##########\n",
    "Choose_random_forest = True #either random forrest / decision tree)\n",
    "\n",
    "seed_1 = 0  # for random data gen\n",
    "seed_2 = 0  # for train test split\n",
    "seed_3 = 0  # for RandomForest classifier\n",
    "seq_size = 2 # days of past data available\n",
    "\n",
    "\n",
    "#feature labels:\n",
    "column_choices = ['volume'] # put in features (except for 'close')\n",
    "\n",
    "#########################################\n",
    "\n",
    "column_choices = ['close'] + column_choices # daily rate of return is always used as a feature\n",
    "assert 'close' in column_choices[0]\n",
    "\n",
    "for column_choice in column_choices:\n",
    "    assert column_choice in ['open', 'high', 'low', 'close', 'adjusted_close', 'volume']\n",
    "    \n",
    "feature_index = [j +' day'+str(i) for i in range(seq_size) for j in column_choices[1:]+['fractional_change']]\n",
    "print('input features:' , feature_index)"
   ]
  },
  {
   "cell_type": "code",
   "execution_count": 41,
   "metadata": {},
   "outputs": [],
   "source": [
    "use_random_data_instead_of_database = False\n",
    "if use_random_data_instead_of_database:\n",
    "    np.random.seed(seed_1)\n",
    "    raw_data = np.random.normal(loc=1, scale=0.1, size=100000)\n",
    "else:\n",
    "    raw_data = df[column_choice].values\n",
    "    data = df[column_choices]\n",
    "\n"
   ]
  },
  {
   "cell_type": "code",
   "execution_count": 42,
   "metadata": {},
   "outputs": [
    {
     "name": "stdout",
     "output_type": "stream",
     "text": [
      "close     False\n",
      "volume    False\n",
      "dtype: bool\n",
      "      close     volume\n",
      "0  0.128348  469033600\n",
      "1  0.121652  175884800\n",
      "2  0.112723  105728000\n",
      "3  0.115513   86441600\n",
      "4  0.118862   73449600\n"
     ]
    },
    {
     "data": {
      "image/png": "[encoded data removed]",
      "text/plain": [
       "<matplotlib.figure.Figure at 0x7fb705465400>"
      ]
     },
     "metadata": {
      "needs_background": "light"
     },
     "output_type": "display_data"
    },
    {
     "data": {
      "image/png": "[encoded data removed]",
      "text/plain": [
       "<matplotlib.figure.Figure at 0x7fb708fdf6d8>"
      ]
     },
     "metadata": {
      "needs_background": "light"
     },
     "output_type": "display_data"
    }
   ],
   "source": [
    "print(data[column_choices].isnull().any())\n",
    "print(data[column_choices].head())\n",
    "plt.figure()\n",
    "for i in column_choices:\n",
    "    plt.clf()\n",
    "    data[i].plot()\n",
    "    plt.xlabel('time')\n",
    "    plt.ylabel(i)\n",
    "    plt.show()"
   ]
  },
  {
   "cell_type": "code",
   "execution_count": 43,
   "metadata": {},
   "outputs": [
    {
     "name": "stderr",
     "output_type": "stream",
     "text": [
      "/Users/samlui/anaconda3/lib/python3.6/site-packages/ipykernel_launcher.py:1: SettingWithCopyWarning: \n",
      "A value is trying to be set on a copy of a slice from a DataFrame.\n",
      "Try using .loc[row_indexer,col_indexer] = value instead\n",
      "\n",
      "See the caveats in the documentation: http://pandas.pydata.org/pandas-docs/stable/indexing.html#indexing-view-versus-copy\n",
      "  \"\"\"Entry point for launching an IPython kernel.\n"
     ]
    },
    {
     "data": {
      "image/png": "[encoded data removed]",
      "text/plain": [
       "<matplotlib.figure.Figure at 0x7fb709aa76d8>"
      ]
     },
     "metadata": {
      "needs_background": "light"
     },
     "output_type": "display_data"
    },
    {
     "data": {
      "image/png": "[encoded data removed]",
      "text/plain": [
       "<matplotlib.figure.Figure at 0x7fb708e61b00>"
      ]
     },
     "metadata": {
      "needs_background": "light"
     },
     "output_type": "display_data"
    },
    {
     "name": "stdout",
     "output_type": "stream",
     "text": [
      "mean: 0.00111 variance: 0.00081 skew: -0.38100\n",
      "P(+ve): 0.49584\n"
     ]
    }
   ],
   "source": [
    "data['fractional_change']=df['close'].pct_change() # replacing frac_diff = (raw_data[1:] - raw_data[:-1])/raw_data[:-1]\n",
    "data = data.dropna(axis=0)\n",
    "\n",
    "\n",
    "plt.figure()\n",
    "data['fractional_change'].plot()\n",
    "plt.xlabel('time')\n",
    "plt.ylabel('daily rate of return')\n",
    "plt.show()\n",
    "\n",
    "\n",
    "plt.clf()\n",
    "plt.hist(data['fractional_change'].values,bins=np.linspace(-0.3, 0.3, 21),normed=True)\n",
    "plt.plot(np.linspace(-0.3, 0.3, 100), stats.norm.pdf(np.linspace(-0.3, 0.3, 100), data['fractional_change'].mean(), np.sqrt(data['fractional_change'].var())))\n",
    "plt.show()\n",
    "print('mean: {0:0.5f}'.format(data['fractional_change'].mean()),\n",
    "      'variance: {0:0.5f}'.format(data['fractional_change'].var()), \n",
    "      'skew: {0:0.5f}'.format(data['fractional_change'].skew()))\n",
    "\n",
    "check_prob_up = [1 if i > 0 else 0 for i in data['fractional_change'].values ]\n",
    "print('P(+ve): {0:0.5f}'.format(np.sum(check_prob_up)/len(check_prob_up)))\n"
   ]
  },
  {
   "cell_type": "code",
   "execution_count": 44,
   "metadata": {},
   "outputs": [],
   "source": [
    "# reshape dataset such that X has length = seq_size, data points non-overlapping\n",
    "n_samples = data.shape[0] // (seq_size+1)\n",
    "data.drop(data.tail(data.shape[0] % (seq_size+1)).index,inplace=True)\n",
    "relative_data = data[column_choices[1:]+['fractional_change']].to_numpy()    \n",
    "relative_data = relative_data.reshape((n_samples, (len(column_choices)*(seq_size+1))))\n",
    "\n",
    "X = relative_data[:, :seq_size*len(column_choices)]\n",
    "# should probably tidy this part up at some point. But let's use panda dataframe for the time being\n",
    "X = pd.DataFrame(data=X,  columns=feature_index)\n",
    "y = np.sign(relative_data[:, -1])\n"
   ]
  },
  {
   "cell_type": "code",
   "execution_count": 45,
   "metadata": {},
   "outputs": [
    {
     "name": "stdout",
     "output_type": "stream",
     "text": [
      "(2758, 4) (690, 4)\n",
      "P(+ve) in train set: 0.49166\n",
      "P(+ve) in test set: 0.47536\n"
     ]
    }
   ],
   "source": [
    "from sklearn.model_selection import train_test_split\n",
    "\n",
    "X_train, X_test, y_train, y_test = train_test_split(X, y, test_size=0.2, random_state=seed_2) \n",
    "print(X_train.shape, X_test.shape)\n",
    "\n",
    "check_prob_up = [1 if i > 0 else 0 for i in y_train ]\n",
    "print('P(+ve) in train set: {0:0.5f}'.format(np.sum(check_prob_up)/len(check_prob_up)))\n",
    "check_prob_up = [1 if i > 0 else 0 for i in y_test ]\n",
    "print('P(+ve) in test set: {0:0.5f}'.format(np.sum(check_prob_up)/len(check_prob_up)))\n",
    "\n"
   ]
  },
  {
   "cell_type": "code",
   "execution_count": 46,
   "metadata": {},
   "outputs": [
    {
     "name": "stdout",
     "output_type": "stream",
     "text": [
      "Model accuracy score with random forest : 0.5029\n"
     ]
    }
   ],
   "source": [
    "# Build model\n",
    "from sklearn.ensemble import RandomForestClassifier\n",
    "from sklearn.tree import DecisionTreeClassifier\n",
    "from sklearn.metrics import accuracy_score\n",
    "\n",
    "# instantiate the classifier \n",
    "####### choose parameter #####\n",
    "tree_depth = 3\n",
    "# tree_depth = len(feature_index) # might not be optimal, but can used in ad-hoc manner to avoid overfitting\n",
    "##############################\n",
    "\n",
    "if Choose_random_forest:\n",
    "    rfc = RandomForestClassifier(max_depth = tree_depth, n_estimators=100, criterion='gini',random_state=seed_3)\n",
    "else:  \n",
    "    rfc = DecisionTreeClassifier(max_depth = tree_depth,random_state=seed_3)\n",
    "\n",
    "# fit the model\n",
    "rfc.fit(X_train, y_train)\n",
    "\n",
    "# Predict the Test set results\n",
    "y_pred = rfc.predict(X_test)\n",
    "\n",
    "# Check accuracy score \n",
    "print('Model accuracy score with random forest : {0:0.4f}'. format(accuracy_score(y_test, y_pred)))"
   ]
  },
  {
   "cell_type": "code",
   "execution_count": 47,
   "metadata": {},
   "outputs": [
    {
     "name": "stdout",
     "output_type": "stream",
     "text": [
      "Training set score: 0.5468\n",
      "Test set score: 0.5029\n"
     ]
    }
   ],
   "source": [
    "#Check if model is overfit\n",
    "print('Training set score: {:.4f}'.format(rfc.score(X_train, y_train)))\n",
    "print('Test set score: {:.4f}'.format(rfc.score(X_test, y_test)))"
   ]
  },
  {
   "cell_type": "code",
   "execution_count": 48,
   "metadata": {},
   "outputs": [
    {
     "data": {
      "text/plain": [
       "fractional_change day0    0.343759\n",
       "fractional_change day1    0.229351\n",
       "volume day1               0.215730\n",
       "volume day0               0.211160\n",
       "dtype: float64"
      ]
     },
     "execution_count": 48,
     "metadata": {},
     "output_type": "execute_result"
    }
   ],
   "source": [
    "# important features\n",
    "feature_scores = pd.Series(rfc.feature_importances_, index=feature_index).sort_values(ascending=False)\n",
    "feature_scores"
   ]
  },
  {
   "cell_type": "code",
   "execution_count": 49,
   "metadata": {},
   "outputs": [
    {
     "name": "stderr",
     "output_type": "stream",
     "text": [
      "/Users/samlui/anaconda3/lib/python3.6/site-packages/seaborn/categorical.py:1460: FutureWarning: remove_na is deprecated and is a private function. Do not use.\n",
      "  stat_data = remove_na(group_data)\n"
     ]
    },
    {
     "data": {
      "image/png": "[encoded data removed]",
      "text/plain": [
       "<matplotlib.figure.Figure at 0x7fb709c440f0>"
      ]
     },
     "metadata": {
      "needs_background": "light"
     },
     "output_type": "display_data"
    }
   ],
   "source": [
    "plt.figure()\n",
    "if Choose_random_forest:\n",
    "# Creating a seaborn bar plot\n",
    "    sns.barplot(x=feature_scores, y=feature_scores.index)\n",
    "\n",
    "    plt.xlabel('Feature Importance Score')\n",
    "    plt.ylabel('Features')\n",
    "    plt.title(\"Visualizing Important Features\")\n",
    "else:\n",
    "    from sklearn import tree\n",
    "    tree.plot_tree(rfc.fit(X_train, y_train))\n",
    "    plt.tight_layout()\n",
    "    plt.show()\n",
    "\n",
    "plt.show()"
   ]
  },
  {
   "cell_type": "markdown",
   "metadata": {},
   "source": [
    "Note: Need some way to normalize volume"
   ]
  },
  {
   "cell_type": "code",
   "execution_count": 50,
   "metadata": {},
   "outputs": [
    {
     "name": "stdout",
     "output_type": "stream",
     "text": [
      "Confusion matrix\n",
      "\n",
      " [[ 89   0 248]\n",
      " [ 11   0  14]\n",
      " [ 70   0 258]]\n"
     ]
    }
   ],
   "source": [
    "from sklearn.metrics import confusion_matrix\n",
    "\n",
    "cm = confusion_matrix(y_test, y_pred)\n",
    "\n",
    "print('Confusion matrix\\n\\n', cm)"
   ]
  },
  {
   "cell_type": "code",
   "execution_count": 51,
   "metadata": {},
   "outputs": [
    {
     "name": "stdout",
     "output_type": "stream",
     "text": [
      "              precision    recall  f1-score   support\n",
      "\n",
      "        -1.0       0.52      0.26      0.35       337\n",
      "         0.0       0.00      0.00      0.00        25\n",
      "         1.0       0.50      0.79      0.61       328\n",
      "\n",
      "    accuracy                           0.50       690\n",
      "   macro avg       0.34      0.35      0.32       690\n",
      "weighted avg       0.49      0.50      0.46       690\n",
      "\n"
     ]
    },
    {
     "name": "stderr",
     "output_type": "stream",
     "text": [
      "/Users/samlui/.local/lib/python3.6/site-packages/sklearn/metrics/_classification.py:1248: UndefinedMetricWarning: Precision and F-score are ill-defined and being set to 0.0 in labels with no predicted samples. Use `zero_division` parameter to control this behavior.\n",
      "  _warn_prf(average, modifier, msg_start, len(result))\n",
      "/Users/samlui/.local/lib/python3.6/site-packages/sklearn/metrics/_classification.py:1248: UndefinedMetricWarning: Precision and F-score are ill-defined and being set to 0.0 in labels with no predicted samples. Use `zero_division` parameter to control this behavior.\n",
      "  _warn_prf(average, modifier, msg_start, len(result))\n",
      "/Users/samlui/.local/lib/python3.6/site-packages/sklearn/metrics/_classification.py:1248: UndefinedMetricWarning: Precision and F-score are ill-defined and being set to 0.0 in labels with no predicted samples. Use `zero_division` parameter to control this behavior.\n",
      "  _warn_prf(average, modifier, msg_start, len(result))\n"
     ]
    }
   ],
   "source": [
    "from sklearn.metrics import classification_report\n",
    "\n",
    "print(classification_report(y_test, y_pred))"
   ]
  },
  {
   "cell_type": "markdown",
   "metadata": {},
   "source": [
    "### Example 2"
   ]
  },
  {
   "cell_type": "code",
   "execution_count": 52,
   "metadata": {},
   "outputs": [
    {
     "data": {
      "text/html": [
       "<div>\n",
       "<style scoped>\n",
       "    .dataframe tbody tr th:only-of-type {\n",
       "        vertical-align: middle;\n",
       "    }\n",
       "\n",
       "    .dataframe tbody tr th {\n",
       "        vertical-align: top;\n",
       "    }\n",
       "\n",
       "    .dataframe thead th {\n",
       "        text-align: right;\n",
       "    }\n",
       "</style>\n",
       "<table border=\"1\" class=\"dataframe\">\n",
       "  <thead>\n",
       "    <tr style=\"text-align: right;\">\n",
       "      <th></th>\n",
       "      <th>close</th>\n",
       "      <th>close_COST</th>\n",
       "      <th>close_DIS</th>\n",
       "      <th>close_ENB</th>\n",
       "      <th>close_JPM</th>\n",
       "      <th>close_MSFT</th>\n",
       "      <th>close_PFE</th>\n",
       "      <th>close_PG</th>\n",
       "      <th>close_AAPL</th>\n",
       "    </tr>\n",
       "    <tr>\n",
       "      <th>date</th>\n",
       "      <th></th>\n",
       "      <th></th>\n",
       "      <th></th>\n",
       "      <th></th>\n",
       "      <th></th>\n",
       "      <th></th>\n",
       "      <th></th>\n",
       "      <th></th>\n",
       "      <th></th>\n",
       "    </tr>\n",
       "  </thead>\n",
       "  <tbody>\n",
       "    <tr>\n",
       "      <th>1986-08-13 00:00:00</th>\n",
       "      <td>0.210938</td>\n",
       "      <td>9.6875</td>\n",
       "      <td>3.925448</td>\n",
       "      <td>2.150579</td>\n",
       "      <td>15.708333</td>\n",
       "      <td>0.103299</td>\n",
       "      <td>2.782060</td>\n",
       "      <td>4.789063</td>\n",
       "      <td>0.160714</td>\n",
       "    </tr>\n",
       "    <tr>\n",
       "      <th>1986-08-14 00:00:00</th>\n",
       "      <td>0.222656</td>\n",
       "      <td>9.5000</td>\n",
       "      <td>3.832964</td>\n",
       "      <td>2.160094</td>\n",
       "      <td>15.750000</td>\n",
       "      <td>0.105903</td>\n",
       "      <td>2.782060</td>\n",
       "      <td>4.773438</td>\n",
       "      <td>0.160714</td>\n",
       "    </tr>\n",
       "    <tr>\n",
       "      <th>1986-08-15 00:00:00</th>\n",
       "      <td>0.218750</td>\n",
       "      <td>9.3750</td>\n",
       "      <td>3.802135</td>\n",
       "      <td>2.112515</td>\n",
       "      <td>15.833333</td>\n",
       "      <td>0.106337</td>\n",
       "      <td>2.772177</td>\n",
       "      <td>4.843750</td>\n",
       "      <td>0.159598</td>\n",
       "    </tr>\n",
       "    <tr>\n",
       "      <th>1986-08-18 00:00:00</th>\n",
       "      <td>0.210938</td>\n",
       "      <td>9.6875</td>\n",
       "      <td>3.761031</td>\n",
       "      <td>2.112515</td>\n",
       "      <td>15.833333</td>\n",
       "      <td>0.105035</td>\n",
       "      <td>2.752411</td>\n",
       "      <td>4.929688</td>\n",
       "      <td>0.157924</td>\n",
       "    </tr>\n",
       "    <tr>\n",
       "      <th>1986-08-19 00:00:00</th>\n",
       "      <td>0.214844</td>\n",
       "      <td>9.5625</td>\n",
       "      <td>3.699375</td>\n",
       "      <td>2.112515</td>\n",
       "      <td>16.083332</td>\n",
       "      <td>0.105035</td>\n",
       "      <td>2.717821</td>\n",
       "      <td>4.890625</td>\n",
       "      <td>0.157924</td>\n",
       "    </tr>\n",
       "  </tbody>\n",
       "</table>\n",
       "</div>"
      ],
      "text/plain": [
       "                        close  close_COST  close_DIS  close_ENB  close_JPM  \\\n",
       "date                                                                         \n",
       "1986-08-13 00:00:00  0.210938      9.6875   3.925448   2.150579  15.708333   \n",
       "1986-08-14 00:00:00  0.222656      9.5000   3.832964   2.160094  15.750000   \n",
       "1986-08-15 00:00:00  0.218750      9.3750   3.802135   2.112515  15.833333   \n",
       "1986-08-18 00:00:00  0.210938      9.6875   3.761031   2.112515  15.833333   \n",
       "1986-08-19 00:00:00  0.214844      9.5625   3.699375   2.112515  16.083332   \n",
       "\n",
       "                     close_MSFT  close_PFE  close_PG  close_AAPL  \n",
       "date                                                              \n",
       "1986-08-13 00:00:00    0.103299   2.782060  4.789063    0.160714  \n",
       "1986-08-14 00:00:00    0.105903   2.782060  4.773438    0.160714  \n",
       "1986-08-15 00:00:00    0.106337   2.772177  4.843750    0.159598  \n",
       "1986-08-18 00:00:00    0.105035   2.752411  4.929688    0.157924  \n",
       "1986-08-19 00:00:00    0.105035   2.717821  4.890625    0.157924  "
      ]
     },
     "execution_count": 52,
     "metadata": {},
     "output_type": "execute_result"
    }
   ],
   "source": [
    "other_tickers = ['ADBE','COST',  'DIS', 'ENB','JPM', 'MSFT',   'PFE', 'PG']\n",
    "target_ticker = ['AAPL']\n",
    "ticker = other_tickers + target_ticker\n",
    "test_data = finance_db.get_daily_per_ticker(ticker[0])[['date','close']].set_index('date')\n",
    "for i in ticker[1:]:\n",
    "    test_data = test_data.join(finance_db.get_daily_per_ticker(i)[['date','close']].set_index('date'),how='inner',rsuffix='_'+i)\n",
    "test_data.head()"
   ]
  },
  {
   "cell_type": "code",
   "execution_count": 53,
   "metadata": {},
   "outputs": [
    {
     "data": {
      "text/html": [
       "<div>\n",
       "<style scoped>\n",
       "    .dataframe tbody tr th:only-of-type {\n",
       "        vertical-align: middle;\n",
       "    }\n",
       "\n",
       "    .dataframe tbody tr th {\n",
       "        vertical-align: top;\n",
       "    }\n",
       "\n",
       "    .dataframe thead th {\n",
       "        text-align: right;\n",
       "    }\n",
       "</style>\n",
       "<table border=\"1\" class=\"dataframe\">\n",
       "  <thead>\n",
       "    <tr style=\"text-align: right;\">\n",
       "      <th></th>\n",
       "      <th>close</th>\n",
       "      <th>close_COST</th>\n",
       "      <th>close_DIS</th>\n",
       "      <th>close_ENB</th>\n",
       "      <th>close_JPM</th>\n",
       "      <th>close_MSFT</th>\n",
       "      <th>close_PFE</th>\n",
       "      <th>close_PG</th>\n",
       "      <th>close_AAPL</th>\n",
       "    </tr>\n",
       "    <tr>\n",
       "      <th>date</th>\n",
       "      <th></th>\n",
       "      <th></th>\n",
       "      <th></th>\n",
       "      <th></th>\n",
       "      <th></th>\n",
       "      <th></th>\n",
       "      <th></th>\n",
       "      <th></th>\n",
       "      <th></th>\n",
       "    </tr>\n",
       "  </thead>\n",
       "  <tbody>\n",
       "    <tr>\n",
       "      <th>1986-08-14 00:00:00</th>\n",
       "      <td>0.055552</td>\n",
       "      <td>-0.019355</td>\n",
       "      <td>-0.023560</td>\n",
       "      <td>0.004424</td>\n",
       "      <td>0.002653</td>\n",
       "      <td>0.025208</td>\n",
       "      <td>0.000000</td>\n",
       "      <td>-0.003263</td>\n",
       "      <td>0.000000</td>\n",
       "    </tr>\n",
       "    <tr>\n",
       "      <th>1986-08-15 00:00:00</th>\n",
       "      <td>-0.017543</td>\n",
       "      <td>-0.013158</td>\n",
       "      <td>-0.008043</td>\n",
       "      <td>-0.022026</td>\n",
       "      <td>0.005291</td>\n",
       "      <td>0.004098</td>\n",
       "      <td>-0.003552</td>\n",
       "      <td>0.014730</td>\n",
       "      <td>-0.006944</td>\n",
       "    </tr>\n",
       "    <tr>\n",
       "      <th>1986-08-18 00:00:00</th>\n",
       "      <td>-0.035712</td>\n",
       "      <td>0.033333</td>\n",
       "      <td>-0.010811</td>\n",
       "      <td>0.000000</td>\n",
       "      <td>0.000000</td>\n",
       "      <td>-0.012244</td>\n",
       "      <td>-0.007130</td>\n",
       "      <td>0.017742</td>\n",
       "      <td>-0.010489</td>\n",
       "    </tr>\n",
       "    <tr>\n",
       "      <th>1986-08-19 00:00:00</th>\n",
       "      <td>0.018517</td>\n",
       "      <td>-0.012903</td>\n",
       "      <td>-0.016393</td>\n",
       "      <td>0.000000</td>\n",
       "      <td>0.015789</td>\n",
       "      <td>0.000000</td>\n",
       "      <td>-0.012567</td>\n",
       "      <td>-0.007924</td>\n",
       "      <td>0.000000</td>\n",
       "    </tr>\n",
       "    <tr>\n",
       "      <th>1986-08-20 00:00:00</th>\n",
       "      <td>0.000000</td>\n",
       "      <td>-0.006536</td>\n",
       "      <td>0.022222</td>\n",
       "      <td>0.000000</td>\n",
       "      <td>0.010363</td>\n",
       "      <td>-0.008264</td>\n",
       "      <td>-0.003636</td>\n",
       "      <td>-0.012780</td>\n",
       "      <td>0.024733</td>\n",
       "    </tr>\n",
       "  </tbody>\n",
       "</table>\n",
       "</div>"
      ],
      "text/plain": [
       "                        close  close_COST  close_DIS  close_ENB  close_JPM  \\\n",
       "date                                                                         \n",
       "1986-08-14 00:00:00  0.055552   -0.019355  -0.023560   0.004424   0.002653   \n",
       "1986-08-15 00:00:00 -0.017543   -0.013158  -0.008043  -0.022026   0.005291   \n",
       "1986-08-18 00:00:00 -0.035712    0.033333  -0.010811   0.000000   0.000000   \n",
       "1986-08-19 00:00:00  0.018517   -0.012903  -0.016393   0.000000   0.015789   \n",
       "1986-08-20 00:00:00  0.000000   -0.006536   0.022222   0.000000   0.010363   \n",
       "\n",
       "                     close_MSFT  close_PFE  close_PG  close_AAPL  \n",
       "date                                                              \n",
       "1986-08-14 00:00:00    0.025208   0.000000 -0.003263    0.000000  \n",
       "1986-08-15 00:00:00    0.004098  -0.003552  0.014730   -0.006944  \n",
       "1986-08-18 00:00:00   -0.012244  -0.007130  0.017742   -0.010489  \n",
       "1986-08-19 00:00:00    0.000000  -0.012567 -0.007924    0.000000  \n",
       "1986-08-20 00:00:00   -0.008264  -0.003636 -0.012780    0.024733  "
      ]
     },
     "execution_count": 53,
     "metadata": {},
     "output_type": "execute_result"
    }
   ],
   "source": [
    "raw_data = test_data.pct_change()\n",
    "raw_data = raw_data.dropna(axis=0)\n",
    "raw_data.head()"
   ]
  },
  {
   "cell_type": "code",
   "execution_count": 54,
   "metadata": {},
   "outputs": [
    {
     "name": "stdout",
     "output_type": "stream",
     "text": [
      "input features: ['ADBE day0', 'COST day0', 'DIS day0', 'ENB day0', 'JPM day0', 'MSFT day0', 'PFE day0', 'PG day0', 'AAPL day0', 'ADBE day1', 'COST day1', 'DIS day1', 'ENB day1', 'JPM day1', 'MSFT day1', 'PFE day1', 'PG day1', 'AAPL day1']\n"
     ]
    }
   ],
   "source": [
    "# reshape dataset such that X has length = seq_size, data points non-overlapping\n",
    "data = raw_data\n",
    "seq_size = 2\n",
    "feature_index = [j +' day'+str(i) for i in range(seq_size) for j in ticker]\n",
    "print('input features:' , feature_index)\n",
    "n_samples = data.shape[0] // (seq_size+1)\n",
    "data.drop(data.tail(data.shape[0] % (seq_size+1)).index,inplace=True)\n",
    "relative_data = data.to_numpy()    \n",
    "relative_data = relative_data.reshape((n_samples, (len(ticker)*(seq_size+1))))\n",
    "\n",
    "X = relative_data[:, :seq_size*len(ticker)]\n",
    "# should probably tidy this part up at some point. But let's use panda dataframe for the time being\n",
    "X = pd.DataFrame(data=X,  columns=feature_index)\n",
    "y = np.sign(relative_data[:, -1])\n"
   ]
  },
  {
   "cell_type": "code",
   "execution_count": 55,
   "metadata": {},
   "outputs": [
    {
     "name": "stdout",
     "output_type": "stream",
     "text": [
      "(2376, 18) (594, 18)\n",
      "P(+ve) in train set: 0.50168\n",
      "P(+ve) in test set: 0.52525\n"
     ]
    }
   ],
   "source": [
    "from sklearn.model_selection import train_test_split\n",
    "\n",
    "X_train, X_test, y_train, y_test = train_test_split(X, y, test_size=0.2, random_state=seed_2) \n",
    "print(X_train.shape, X_test.shape)\n",
    "\n",
    "check_prob_up = [1 if i > 0 else 0 for i in y_train ]\n",
    "print('P(+ve) in train set: {0:0.5f}'.format(np.sum(check_prob_up)/len(check_prob_up)))\n",
    "check_prob_up = [1 if i > 0 else 0 for i in y_test ]\n",
    "print('P(+ve) in test set: {0:0.5f}'.format(np.sum(check_prob_up)/len(check_prob_up)))\n",
    "\n"
   ]
  },
  {
   "cell_type": "code",
   "execution_count": 64,
   "metadata": {},
   "outputs": [
    {
     "name": "stdout",
     "output_type": "stream",
     "text": [
      "Model accuracy score with random forest : 0.5438\n"
     ]
    }
   ],
   "source": [
    "# Build model\n",
    "from sklearn.ensemble import RandomForestClassifier\n",
    "from sklearn.tree import DecisionTreeClassifier\n",
    "from sklearn.metrics import accuracy_score\n",
    "\n",
    "# instantiate the classifier \n",
    "####### choose parameter #####\n",
    "Choose_random_forest = True #either random forrest / decision tree)\n",
    "tree_depth = 2\n",
    "# tree_depth = len(feature_index) # might not be optimal, but can used in ad-hoc manner to avoid overfitting\n",
    "##############################\n",
    "\n",
    "if Choose_random_forest:\n",
    "    rfc = RandomForestClassifier(max_depth = tree_depth, n_estimators=100, criterion='gini',random_state=seed_3)\n",
    "else:  \n",
    "    rfc = DecisionTreeClassifier(max_depth = tree_depth,random_state=seed_3)\n",
    "\n",
    "# fit the model\n",
    "rfc.fit(X_train, y_train)\n",
    "\n",
    "# Predict the Test set results\n",
    "y_pred = rfc.predict(X_test)\n",
    "\n",
    "# Check accuracy score \n",
    "print('Model accuracy score with random forest : {0:0.4f}'. format(accuracy_score(y_test, y_pred)))"
   ]
  },
  {
   "cell_type": "code",
   "execution_count": 65,
   "metadata": {},
   "outputs": [
    {
     "name": "stdout",
     "output_type": "stream",
     "text": [
      "Training set score: 0.5429\n",
      "Test set score: 0.5438\n"
     ]
    }
   ],
   "source": [
    "#Check if model is overfit\n",
    "print('Training set score: {:.4f}'.format(rfc.score(X_train, y_train)))\n",
    "print('Test set score: {:.4f}'.format(rfc.score(X_test, y_test)))"
   ]
  },
  {
   "cell_type": "code",
   "execution_count": 66,
   "metadata": {},
   "outputs": [
    {
     "name": "stdout",
     "output_type": "stream",
     "text": [
      "PG day1      0.111601\n",
      "ADBE day0    0.097988\n",
      "ENB day0     0.083494\n",
      "PFE day1     0.068398\n",
      "ADBE day1    0.062443\n",
      "COST day1    0.060535\n",
      "DIS day1     0.060498\n",
      "COST day0    0.055297\n",
      "ENB day1     0.054244\n",
      "AAPL day1    0.051629\n",
      "JPM day1     0.044583\n",
      "JPM day0     0.041592\n",
      "MSFT day1    0.040085\n",
      "DIS day0     0.037272\n",
      "PG day0      0.035114\n",
      "PFE day0     0.033177\n",
      "MSFT day0    0.032547\n",
      "AAPL day0    0.029505\n",
      "dtype: float64\n"
     ]
    },
    {
     "name": "stderr",
     "output_type": "stream",
     "text": [
      "/Users/samlui/anaconda3/lib/python3.6/site-packages/seaborn/categorical.py:1460: FutureWarning: remove_na is deprecated and is a private function. Do not use.\n",
      "  stat_data = remove_na(group_data)\n"
     ]
    },
    {
     "data": {
      "image/png": "[encoded data removed]",
      "text/plain": [
       "<matplotlib.figure.Figure at 0x7fb708e3de10>"
      ]
     },
     "metadata": {
      "needs_background": "light"
     },
     "output_type": "display_data"
    }
   ],
   "source": [
    "# important features\n",
    "feature_scores = pd.Series(rfc.feature_importances_, index=feature_index).sort_values(ascending=False)\n",
    "print(feature_scores)\n",
    "\n",
    "plt.figure()\n",
    "if Choose_random_forest:\n",
    "# Creating a seaborn bar plot\n",
    "    sns.barplot(x=feature_scores, y=feature_scores.index)\n",
    "\n",
    "    plt.xlabel('Feature Importance Score')\n",
    "    plt.ylabel('Features')\n",
    "    plt.title(\"Visualizing Important Features\")\n",
    "else:\n",
    "    from sklearn import tree\n",
    "    tree.plot_tree(rfc.fit(X_train, y_train))\n",
    "    plt.tight_layout()\n",
    "    plt.show()\n",
    "\n",
    "plt.show()"
   ]
  },
  {
   "cell_type": "code",
   "execution_count": 67,
   "metadata": {},
   "outputs": [
    {
     "name": "stdout",
     "output_type": "stream",
     "text": [
      "Confusion matrix\n",
      "\n",
      " [[ 26   0 240]\n",
      " [  4   0  12]\n",
      " [ 15   0 297]]\n"
     ]
    }
   ],
   "source": [
    "from sklearn.metrics import confusion_matrix\n",
    "\n",
    "cm = confusion_matrix(y_test, y_pred)\n",
    "\n",
    "print('Confusion matrix\\n\\n', cm)"
   ]
  },
  {
   "cell_type": "code",
   "execution_count": 68,
   "metadata": {},
   "outputs": [
    {
     "name": "stdout",
     "output_type": "stream",
     "text": [
      "              precision    recall  f1-score   support\n",
      "\n",
      "        -1.0       0.58      0.10      0.17       266\n",
      "         0.0       0.00      0.00      0.00        16\n",
      "         1.0       0.54      0.95      0.69       312\n",
      "\n",
      "    accuracy                           0.54       594\n",
      "   macro avg       0.37      0.35      0.29       594\n",
      "weighted avg       0.54      0.54      0.44       594\n",
      "\n"
     ]
    },
    {
     "name": "stderr",
     "output_type": "stream",
     "text": [
      "/Users/samlui/.local/lib/python3.6/site-packages/sklearn/metrics/_classification.py:1248: UndefinedMetricWarning: Precision and F-score are ill-defined and being set to 0.0 in labels with no predicted samples. Use `zero_division` parameter to control this behavior.\n",
      "  _warn_prf(average, modifier, msg_start, len(result))\n",
      "/Users/samlui/.local/lib/python3.6/site-packages/sklearn/metrics/_classification.py:1248: UndefinedMetricWarning: Precision and F-score are ill-defined and being set to 0.0 in labels with no predicted samples. Use `zero_division` parameter to control this behavior.\n",
      "  _warn_prf(average, modifier, msg_start, len(result))\n",
      "/Users/samlui/.local/lib/python3.6/site-packages/sklearn/metrics/_classification.py:1248: UndefinedMetricWarning: Precision and F-score are ill-defined and being set to 0.0 in labels with no predicted samples. Use `zero_division` parameter to control this behavior.\n",
      "  _warn_prf(average, modifier, msg_start, len(result))\n"
     ]
    }
   ],
   "source": [
    "from sklearn.metrics import classification_report\n",
    "\n",
    "print(classification_report(y_test, y_pred))"
   ]
  },
  {
   "cell_type": "markdown",
   "metadata": {},
   "source": [
    "Change Choose_random_forest to True for intuition. Basically, the decision is always to choose +ve"
   ]
  },
  {
   "cell_type": "code",
   "execution_count": null,
   "metadata": {
    "collapsed": true
   },
   "outputs": [],
   "source": []
  }
 ],
 "metadata": {
  "kernelspec": {
   "display_name": "Python 3",
   "language": "python",
   "name": "python3"
  },
  "language_info": {
   "codemirror_mode": {
    "name": "ipython",
    "version": 3
   },
   "file_extension": ".py",
   "mimetype": "text/x-python",
   "name": "python",
   "nbconvert_exporter": "python",
   "pygments_lexer": "ipython3",
   "version": "3.6.9"
  }
 },
 "nbformat": 4,
 "nbformat_minor": 2
}
