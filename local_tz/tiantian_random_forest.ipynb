{
 "cells": [
  {
   "cell_type": "code",
   "execution_count": 1,
   "id": "636fd16e",
   "metadata": {},
   "outputs": [],
   "source": [
    "import matplotlib.pyplot as plt\n",
    "import numpy as np\n",
    "import os\n",
    "import pandas as pd\n",
    "import sqlite3 as sql\n",
    "import sys\n",
    "import yfinance as yf"
   ]
  },
  {
   "cell_type": "code",
   "execution_count": 2,
   "id": "taken-geneva",
   "metadata": {},
   "outputs": [],
   "source": [
    "sys.path.append('../')\n",
    "\n",
    "from src.db_default import DB_DIR, DB_FROZEN_VARIANTS\n",
    "from src.db_class import DBCursor, FinanceDB"
   ]
  },
  {
   "cell_type": "markdown",
   "id": "6da1695c",
   "metadata": {},
   "source": [
    "### Pulling data from DB"
   ]
  },
  {
   "cell_type": "code",
   "execution_count": 3,
   "id": "6effdb86",
   "metadata": {},
   "outputs": [],
   "source": [
    "db_variant_label = 'v1'\n",
    "db_filename = DB_FROZEN_VARIANTS['v1']['db_filename']\n",
    "finance_db = FinanceDB(db_filename)"
   ]
  },
  {
   "cell_type": "code",
   "execution_count": 4,
   "id": "540faacb",
   "metadata": {},
   "outputs": [],
   "source": [
    "ticker = 'BTC-USD'\n",
    "df = finance_db.get_daily_per_ticker(ticker)"
   ]
  },
  {
   "cell_type": "code",
   "execution_count": 5,
   "id": "burning-affiliate",
   "metadata": {},
   "outputs": [],
   "source": [
    "#print(df)"
   ]
  },
  {
   "cell_type": "markdown",
   "id": "olympic-vegetarian",
   "metadata": {},
   "source": [
    "### Prepare Random Forest"
   ]
  },
  {
   "cell_type": "markdown",
   "id": "streaming-bermuda",
   "metadata": {},
   "source": [
    "#### Settings"
   ]
  },
  {
   "cell_type": "code",
   "execution_count": 6,
   "id": "fantastic-crisis",
   "metadata": {},
   "outputs": [],
   "source": [
    "from sklearn.model_selection import train_test_split\n",
    "from sklearn.ensemble import RandomForestClassifier"
   ]
  },
  {
   "cell_type": "code",
   "execution_count": 7,
   "id": "seventh-kennedy",
   "metadata": {},
   "outputs": [],
   "source": [
    "column_choice = 'close'\n",
    "use_random_data_instead_of_database = False\n",
    "\n",
    "assert column_choice in ['open', 'high', 'low', 'close', 'adjusted_close', 'volume']"
   ]
  },
  {
   "cell_type": "code",
   "execution_count": 8,
   "id": "public-kennedy",
   "metadata": {},
   "outputs": [],
   "source": [
    "seed_1 = 0  # for random data gen\n",
    "seed_2 = 0  # for train test split\n",
    "seed_3 = 0  # for RandomForest classifier"
   ]
  },
  {
   "cell_type": "code",
   "execution_count": 9,
   "id": "olive-gravity",
   "metadata": {},
   "outputs": [],
   "source": [
    "seq_size = 5"
   ]
  },
  {
   "cell_type": "markdown",
   "id": "pregnant-content",
   "metadata": {},
   "source": [
    "#### Prep data"
   ]
  },
  {
   "cell_type": "code",
   "execution_count": 10,
   "id": "breeding-doubt",
   "metadata": {},
   "outputs": [],
   "source": [
    "if use_random_data_instead_of_database:\n",
    "    np.random.seed(seed_1)\n",
    "    raw_data = np.random.normal(loc=1, scale=0.1, size=100000)\n",
    "else:\n",
    "    raw_data = df[column_choice].values\n",
    "\n",
    "# np.random.shuffle(raw_data)"
   ]
  },
  {
   "cell_type": "code",
   "execution_count": 11,
   "id": "6af8564d",
   "metadata": {},
   "outputs": [],
   "source": [
    "diff = raw_data[1:] - raw_data[:-1]\n",
    "frac_diff = diff / raw_data[:-1]\n",
    "# frac_diff = raw_data\n",
    "\n",
    "n_samples = len(frac_diff) // (seq_size+1)\n",
    "if len(frac_diff) % (seq_size+1) != 0:\n",
    "    relative_data = frac_diff[:-(len(frac_diff) % (seq_size+1))]\n",
    "else:\n",
    "    relative_data = frac_diff\n",
    "    \n",
    "relative_data = relative_data.reshape((n_samples, (seq_size+1)))\n",
    "\n",
    "X = relative_data[:, :seq_size]\n",
    "Y = np.sign(relative_data[:, -1])\n",
    "\n",
    "X_train, X_test, Y_train, Y_test = train_test_split(X, Y, train_size=0.8, test_size=0.2, random_state=seed_2)"
   ]
  },
  {
   "cell_type": "markdown",
   "id": "southwest-percentage",
   "metadata": {},
   "source": [
    "#### Analyze data"
   ]
  },
  {
   "cell_type": "code",
   "execution_count": 24,
   "id": "3c9f84d3",
   "metadata": {},
   "outputs": [
    {
     "name": "stdout",
     "output_type": "stream",
     "text": [
      "0.002531822838734687\n"
     ]
    },
    {
     "data": {
      "image/png": "[encoded data removed]",
      "text/plain": [
       "<Figure size 432x288 with 1 Axes>"
      ]
     },
     "metadata": {
      "needs_background": "light"
     },
     "output_type": "display_data"
    }
   ],
   "source": [
    "print(np.mean(frac_diff))\n",
    "\n",
    "plt.hist(frac_diff, bins=np.linspace(-0.5, 0.5, 51))\n",
    "plt.show()"
   ]
  },
  {
   "cell_type": "code",
   "execution_count": 33,
   "id": "526adecd",
   "metadata": {},
   "outputs": [
    {
     "name": "stdout",
     "output_type": "stream",
     "text": [
      "0.1085972850678733\n"
     ]
    },
    {
     "data": {
      "image/png": "[encoded data removed]",
      "text/plain": [
       "<Figure size 432x288 with 1 Axes>"
      ]
     },
     "metadata": {
      "needs_background": "light"
     },
     "output_type": "display_data"
    }
   ],
   "source": [
    "print(np.mean(Y))\n",
    "\n",
    "plt.hist(Y, bins=np.linspace(-1.0, 1.0, 3))\n",
    "plt.show()"
   ]
  },
  {
   "cell_type": "markdown",
   "id": "funny-debut",
   "metadata": {},
   "source": [
    "#### Train classifer"
   ]
  },
  {
   "cell_type": "code",
   "execution_count": 34,
   "id": "e3abb167",
   "metadata": {},
   "outputs": [],
   "source": [
    "## hyperparameters\n",
    "\n",
    "forest_size = [10, 100, 1000, 10000]\n",
    "max_depth = [1, 2, 3, 4, 5]"
   ]
  },
  {
   "cell_type": "code",
   "execution_count": 36,
   "id": "twelve-transaction",
   "metadata": {},
   "outputs": [],
   "source": [
    "classifer = RandomForestClassifier\n",
    "\n",
    "def train_rf(fs, md):\n",
    "\n",
    "    myRF_clf = classifer(\n",
    "            n_estimators=fs,\n",
    "            max_depth=md, \n",
    "            min_samples_split=2, # minimum number of sample per leaf\n",
    "            oob_score=True,\n",
    "            random_state=seed_3,\n",
    "            warm_start=False # this ensures that you add estimators without retraining everything\n",
    "        )\n",
    "\n",
    "    myRF_clf.fit(X_train, Y_train)\n",
    "\n",
    "    return myRF_clf.score(X_train,Y_train), myRF_clf.oob_score_, myRF_clf.score(X_test,Y_test)"
   ]
  },
  {
   "cell_type": "code",
   "execution_count": null,
   "id": "f6778548",
   "metadata": {},
   "outputs": [],
   "source": [
    "test_scores = np.zeros([len(forest_size), len(max_depth)])\n",
    "\n",
    "for i in range(len(forest_size)):\n",
    "    for j in range(len(max_depth)):\n",
    "        _, _, test_scores[i, j] = train_rf(forest_size[i], max_depth[j])"
   ]
  },
  {
   "cell_type": "code",
   "execution_count": 44,
   "id": "645ea8ee",
   "metadata": {},
   "outputs": [],
   "source": [
    "import matplotlib.colors as colors \n",
    "import matplotlib.cm as cm\n",
    "import matplotlib.ticker as mticker\n",
    "import matplotlib as mpl\n",
    "\n",
    "norm = colors.Normalize(vmin=min(test_scores.flatten()), vmax=max(test_scores.flatten()))\n",
    "mapper = cm.ScalarMappable(norm=norm, cmap=cm.brg)\n",
    "cs = mapper.to_rgba(test_scores)"
   ]
  },
  {
   "cell_type": "code",
   "execution_count": 82,
   "id": "3a358d72",
   "metadata": {},
   "outputs": [
    {
     "data": {
      "text/plain": [
       "<matplotlib.colorbar.Colorbar at 0x7f82585989d0>"
      ]
     },
     "execution_count": 82,
     "metadata": {},
     "output_type": "execute_result"
    },
    {
     "data": {
      "image/png": "[encoded data removed]",
      "text/plain": [
       "<Figure size 432x288 with 2 Axes>"
      ]
     },
     "metadata": {
      "needs_background": "light"
     },
     "output_type": "display_data"
    }
   ],
   "source": [
    "plt.pcolor([0.5, 1.5, 2.5, 3.5, 4.5, 5.5], [3, 30, 300, 3000, 30000], test_scores, cmap=cm.YlGn, vmin=min(test_scores.flatten()), vmax=max(test_scores.flatten()))\n",
    "plt.yscale('log')\n",
    "plt.xlabel(\"Max depth\")\n",
    "plt.ylabel(\"Forest size\")\n",
    "# plt.yticks([1, 2, 3, 4, 5])\n",
    "plt.colorbar()"
   ]
  },
  {
   "cell_type": "code",
   "execution_count": null,
   "id": "57489446",
   "metadata": {},
   "outputs": [],
   "source": []
  }
 ],
 "metadata": {
  "kernelspec": {
   "display_name": "Python 3",
   "language": "python",
   "name": "python3"
  },
  "language_info": {
   "codemirror_mode": {
    "name": "ipython",
    "version": 3
   },
   "file_extension": ".py",
   "mimetype": "text/x-python",
   "name": "python",
   "nbconvert_exporter": "python",
   "pygments_lexer": "ipython3",
   "version": "3.7.11"
  }
 },
 "nbformat": 4,
 "nbformat_minor": 5
}
